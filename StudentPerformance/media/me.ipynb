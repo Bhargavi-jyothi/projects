{
 "cells": [
  {
   "cell_type": "code",
   "execution_count": null,
   "metadata": {},
   "outputs": [],
   "source": []
  }
 ],
 "metadata": {
  "kernelspec": {
   "display_name": "Python 3.7.2 64-bit",
   "language": "python",
   "name": "python3"
  },
  "language_info": {
   "name": "python",
   "version": "3.7.2"
  },
  "orig_nbformat": 4,
  "vscode": {
   "interpreter": {
    "hash": "f3d73958f5a04f03b7f99c86fb72147bebf4639644e5b21cad3d2626e1ff369c"
   }
  }
 },
 "nbformat": 4,
 "nbformat_minor": 2
}
